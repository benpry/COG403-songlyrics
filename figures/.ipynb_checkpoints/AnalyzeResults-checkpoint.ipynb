{
 "cells": [
  {
   "cell_type": "code",
   "execution_count": 1,
   "id": "durable-height",
   "metadata": {},
   "outputs": [],
   "source": [
    "import pandas as pd\n",
    "import matplotlib.pyplot as plt\n",
    "from adjustText import adjust_text"
   ]
  },
  {
   "cell_type": "code",
   "execution_count": 2,
   "id": "threatened-validity",
   "metadata": {},
   "outputs": [],
   "source": [
    "df_agg = pd.read_csv(\"../data/aggregate_best_offsets.csv\")"
   ]
  },
  {
   "cell_type": "code",
   "execution_count": 27,
   "id": "normal-variable",
   "metadata": {},
   "outputs": [
    {
     "data": {
      "image/png": "[encoded data removed]",
      "text/plain": [
       "<Figure size 648x432 with 1 Axes>"
      ]
     },
     "metadata": {
      "needs_background": "light"
     },
     "output_type": "display_data"
    }
   ],
   "source": [
    "agg_hist = df_agg[\"0\"].hist(density=True, figsize=(9, 6))\n",
    "agg_hist.set_title(\"Aggregate Offset Histogram\")\n",
    "agg_hist.set_xlabel(\"Best Offset for the Song\")\n",
    "agg_hist.set_ylabel(\"% of Songs\")\n",
    "agg_hist.get_figure().savefig(\"agg_hist.png\", bbox_inches=\"tight\")"
   ]
  },
  {
   "cell_type": "code",
   "execution_count": 4,
   "id": "worst-renewal",
   "metadata": {},
   "outputs": [],
   "source": [
    "df_genre = pd.read_csv(\"../data/results_by_genre.csv\")"
   ]
  },
  {
   "cell_type": "code",
   "execution_count": null,
   "id": "primary-affiliate",
   "metadata": {},
   "outputs": [],
   "source": [
    "x = df_genre[\"mean_offset\"]\n",
    "y = [0 for _ in range(len(x))]\n",
    "fig, ax = plt.subplots(figsize=(10, 5))\n",
    "ax.scatter(x, y)\n",
    "texts = []\n",
    "for index, row in df_genre.iterrows():\n",
    "    texts.append(ax.text(row[\"mean_offset\"], 0, row[\"genre\"], fontsize=14))\n",
    "adjust_text(texts)\n",
    "ax.set_yticks([])\n",
    "ax.plot((0,0), (-0.1, 0.1), linestyle=\"--\", color=\"black\")\n",
    "ax.set_xlabel(\"Mean Best Offset\", fontsize=14)\n",
    "ax.set_title(\"Best Offset for Cross Correlation by Genre\", fontsize=16)\n",
    "fig.savefig(\"mean_best_offset.png\", bbox_inches=\"tight\")"
   ]
  },
  {
   "cell_type": "code",
   "execution_count": 15,
   "id": "outer-inspiration",
   "metadata": {},
   "outputs": [
    {
     "data": {
      "text/html": [
       "<div>\n",
       "<style scoped>\n",
       "    .dataframe tbody tr th:only-of-type {\n",
       "        vertical-align: middle;\n",
       "    }\n",
       "\n",
       "    .dataframe tbody tr th {\n",
       "        vertical-align: top;\n",
       "    }\n",
       "\n",
       "    .dataframe thead th {\n",
       "        text-align: right;\n",
       "    }\n",
       "</style>\n",
       "<table border=\"1\" class=\"dataframe\">\n",
       "  <thead>\n",
       "    <tr style=\"text-align: right;\">\n",
       "      <th></th>\n",
       "      <th>genre</th>\n",
       "      <th>mean_offset</th>\n",
       "      <th>p</th>\n",
       "    </tr>\n",
       "  </thead>\n",
       "  <tbody>\n",
       "    <tr>\n",
       "      <th>0</th>\n",
       "      <td>Rock</td>\n",
       "      <td>2.620839</td>\n",
       "      <td>0.00000</td>\n",
       "    </tr>\n",
       "    <tr>\n",
       "      <th>1</th>\n",
       "      <td>Rap</td>\n",
       "      <td>-1.443564</td>\n",
       "      <td>0.00001</td>\n",
       "    </tr>\n",
       "    <tr>\n",
       "      <th>2</th>\n",
       "      <td>Latin</td>\n",
       "      <td>0.951299</td>\n",
       "      <td>0.00431</td>\n",
       "    </tr>\n",
       "    <tr>\n",
       "      <th>3</th>\n",
       "      <td>Jazz</td>\n",
       "      <td>-1.045956</td>\n",
       "      <td>0.00006</td>\n",
       "    </tr>\n",
       "    <tr>\n",
       "      <th>4</th>\n",
       "      <td>Electronic</td>\n",
       "      <td>-1.680688</td>\n",
       "      <td>0.00000</td>\n",
       "    </tr>\n",
       "    <tr>\n",
       "      <th>5</th>\n",
       "      <td>Punk</td>\n",
       "      <td>-0.686567</td>\n",
       "      <td>0.00998</td>\n",
       "    </tr>\n",
       "    <tr>\n",
       "      <th>6</th>\n",
       "      <td>Pop</td>\n",
       "      <td>2.139785</td>\n",
       "      <td>0.00000</td>\n",
       "    </tr>\n",
       "    <tr>\n",
       "      <th>7</th>\n",
       "      <td>New Age</td>\n",
       "      <td>-0.455556</td>\n",
       "      <td>0.18649</td>\n",
       "    </tr>\n",
       "    <tr>\n",
       "      <th>8</th>\n",
       "      <td>Metal</td>\n",
       "      <td>-0.542636</td>\n",
       "      <td>0.04153</td>\n",
       "    </tr>\n",
       "    <tr>\n",
       "      <th>9</th>\n",
       "      <td>RnB</td>\n",
       "      <td>0.856902</td>\n",
       "      <td>0.00092</td>\n",
       "    </tr>\n",
       "    <tr>\n",
       "      <th>10</th>\n",
       "      <td>Country</td>\n",
       "      <td>1.124797</td>\n",
       "      <td>0.00001</td>\n",
       "    </tr>\n",
       "    <tr>\n",
       "      <th>11</th>\n",
       "      <td>Reggae</td>\n",
       "      <td>-0.803163</td>\n",
       "      <td>0.00294</td>\n",
       "    </tr>\n",
       "    <tr>\n",
       "      <th>12</th>\n",
       "      <td>Folk</td>\n",
       "      <td>0.995253</td>\n",
       "      <td>0.00003</td>\n",
       "    </tr>\n",
       "    <tr>\n",
       "      <th>13</th>\n",
       "      <td>Blues</td>\n",
       "      <td>-1.364341</td>\n",
       "      <td>0.00000</td>\n",
       "    </tr>\n",
       "    <tr>\n",
       "      <th>14</th>\n",
       "      <td>World</td>\n",
       "      <td>-1.274633</td>\n",
       "      <td>0.00001</td>\n",
       "    </tr>\n",
       "  </tbody>\n",
       "</table>\n",
       "</div>"
      ],
      "text/plain": [
       "         genre  mean_offset        p\n",
       "0         Rock     2.620839  0.00000\n",
       "1          Rap    -1.443564  0.00001\n",
       "2        Latin     0.951299  0.00431\n",
       "3         Jazz    -1.045956  0.00006\n",
       "4   Electronic    -1.680688  0.00000\n",
       "5         Punk    -0.686567  0.00998\n",
       "6          Pop     2.139785  0.00000\n",
       "7      New Age    -0.455556  0.18649\n",
       "8        Metal    -0.542636  0.04153\n",
       "9          RnB     0.856902  0.00092\n",
       "10     Country     1.124797  0.00001\n",
       "11      Reggae    -0.803163  0.00294\n",
       "12        Folk     0.995253  0.00003\n",
       "13       Blues    -1.364341  0.00000\n",
       "14       World    -1.274633  0.00001"
      ]
     },
     "execution_count": 15,
     "metadata": {},
     "output_type": "execute_result"
    }
   ],
   "source": [
    "df_genre"
   ]
  }
 ],
 "metadata": {
  "kernelspec": {
   "display_name": "Python 3",
   "language": "python",
   "name": "python3"
  },
  "language_info": {
   "codemirror_mode": {
    "name": "ipython",
    "version": 3
   },
   "file_extension": ".py",
   "mimetype": "text/x-python",
   "name": "python",
   "nbconvert_exporter": "python",
   "pygments_lexer": "ipython3",
   "version": "3.8.5"
  }
 },
 "nbformat": 4,
 "nbformat_minor": 5
}
